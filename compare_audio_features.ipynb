{
 "cells": [
  {
   "cell_type": "code",
   "execution_count": 1,
   "metadata": {},
   "outputs": [
    {
     "data": {
      "text/plain": [
       "<bound method Spotify.me of <spotipy.client.Spotify object at 0x000001945477CD90>>"
      ]
     },
     "execution_count": 1,
     "metadata": {},
     "output_type": "execute_result"
    }
   ],
   "source": [
    "import spotipy\n",
    "from spotipy.oauth2 import SpotifyClientCredentials\n",
    "SPOTIFY_CLIENT_ID = '2ec294682f3d4d53a0b933dc486bd294'\n",
    "SPOTIFY_CLIENT_SECRET = '4c3845c0b99442239e636930b6410122'\n",
    "# SPOTIFY_REDIRECT_URI = ''\n",
    "auth_manager = SpotifyClientCredentials(client_id=SPOTIFY_CLIENT_ID, client_secret=SPOTIFY_CLIENT_SECRET)\n",
    "sp = spotipy.Spotify(auth_manager=auth_manager)\n",
    "sp.me "
   ]
  },
  {
   "cell_type": "code",
   "execution_count": 2,
   "metadata": {},
   "outputs": [
    {
     "data": {
      "text/plain": [
       "[(0,\n",
       "  'Yung Gravy',\n",
       "  'Betty (Get Money)',\n",
       "  '4cacyP5c3PMlfnyjpg13xW',\n",
       "  'Betty (Get Money)',\n",
       "  '2022-06-10',\n",
       "  88),\n",
       " (1,\n",
       "  'Kendrick Lamar',\n",
       "  'good kid, m.A.A.d city',\n",
       "  '2HbKqm4o0w5wEeEFXm2sD4',\n",
       "  'Money Trees',\n",
       "  '2012',\n",
       "  80),\n",
       " (2,\n",
       "  'Yeat',\n",
       "  'Up 2 Më',\n",
       "  '7BbaIYAdi3pg4MGl6PHwPv',\n",
       "  'Monëy so big',\n",
       "  '2021-09-10',\n",
       "  80),\n",
       " (3,\n",
       "  'Offset',\n",
       "  'CODE (feat. Moneybagg Yo)',\n",
       "  '5uVW9FWVaQde0lfF4hYs4C',\n",
       "  'CODE (feat. Moneybagg Yo)',\n",
       "  '2022-08-26',\n",
       "  77),\n",
       " (4,\n",
       "  'Lil Uzi Vert',\n",
       "  'Lil Uzi Vert vs. The World',\n",
       "  '0B8QzDH7YWih85V5SEMnyJ',\n",
       "  'Money Longer',\n",
       "  '2016-05-27',\n",
       "  75),\n",
       " (5,\n",
       "  'Joji',\n",
       "  'In Tongues (Deluxe)',\n",
       "  '0baNzeUcPQnQSagpe8T0mD',\n",
       "  'worldstar money (interlude)',\n",
       "  '2018-02-14',\n",
       "  79),\n",
       " (6,\n",
       "  'Drake',\n",
       "  'The Best In The World Pack',\n",
       "  '5ry2OE6R2zPQFDO85XkgRb',\n",
       "  'Money In The Grave (Drake ft. Rick Ross)',\n",
       "  '2019-06-15',\n",
       "  78),\n",
       " (7,\n",
       "  'Lil Tjay',\n",
       "  'Destined 2 Win',\n",
       "  '1dg3qy5DjoJodawfOCgrTP',\n",
       "  'Run It Up (feat. Offset & Moneybagg Yo)',\n",
       "  '2021-04-02',\n",
       "  79),\n",
       " (8,\n",
       "  'Trippie Redd',\n",
       "  'Big 14 (feat. Offset & Moneybagg Yo)',\n",
       "  '7rQ84WsT2Wcnrz5gTmbGmw',\n",
       "  'Big 14 (feat. Offset & Moneybagg Yo)',\n",
       "  '2022-08-05',\n",
       "  74),\n",
       " (9, 'LISA', 'LALISA', '7hU3IHwjX150XLoTVmjD0q', 'MONEY', '2021-09-10', 80),\n",
       " (10, 'Cardi B', 'Money', '2GGMabyHXnJmjY6CXhhB2e', 'Money', '2018-10-23', 73),\n",
       " (11,\n",
       "  'Pink Floyd',\n",
       "  'The Dark Side of the Moon',\n",
       "  '0vFOzaXqZHahrZp6enQwQb',\n",
       "  'Money',\n",
       "  '1973-03-01',\n",
       "  73),\n",
       " (12,\n",
       "  'Lil Tecca',\n",
       "  'Virgo World',\n",
       "  '0IJA9KP6rT55jrP1YpTdhx',\n",
       "  'Out Of Love (feat. Internet Money)',\n",
       "  '2020-09-18',\n",
       "  74),\n",
       " (13,\n",
       "  'YG',\n",
       "  'Scared Money',\n",
       "  '4heBcjj4Lw3X2sQVFNbLbz',\n",
       "  'Scared Money (feat. J. Cole and Moneybagg Yo)',\n",
       "  '2022-02-04',\n",
       "  70),\n",
       " (14,\n",
       "  'Amaarae',\n",
       "  'SAD GIRLZ LUV MONEY Remix (feat. Kali Uchis and Moliy)',\n",
       "  '09gysnJpfQ3ublBmJDfcEC',\n",
       "  'SAD GIRLZ LUV MONEY Remix (feat. Kali Uchis and Moliy)',\n",
       "  '2021-09-16',\n",
       "  80),\n",
       " (15,\n",
       "  'Lil Durk',\n",
       "  '7220 (Deluxe)',\n",
       "  '1fz22sUZlpL9jZOWz02wws',\n",
       "  'Hear It Back (feat. Moneybagg Yo)',\n",
       "  '2022-06-24',\n",
       "  71),\n",
       " (16,\n",
       "  'Koe Wetzel',\n",
       "  'Hell Paso',\n",
       "  '1HxcB2FgfYVhkbqNMCmq1O',\n",
       "  'Money Spent',\n",
       "  '2022-09-16',\n",
       "  67),\n",
       " (17,\n",
       "  'The Notorious B.I.G.',\n",
       "  'Life After Death (2014 Remastered Edition)',\n",
       "  '4INDiWSKvqSKDEu7mh8HFz',\n",
       "  'Mo Money Mo Problems (feat. Puff Daddy & Mase) - 2014 Remaster',\n",
       "  '1997-03-04',\n",
       "  75),\n",
       " (18,\n",
       "  'Freddie Gibbs',\n",
       "  'Too Much (feat. Moneybagg Yo)',\n",
       "  '7pZeacKYnK4unCplCmI2qb',\n",
       "  'Too Much (feat. Moneybagg Yo)',\n",
       "  '2022-09-02',\n",
       "  70),\n",
       " (19, 'Yeat', '4L', '29Z5qdYEYNFxly8n6Dt7kp', 'Money Twërk', '2021-06-10', 69)]"
      ]
     },
     "execution_count": 2,
     "metadata": {},
     "output_type": "execute_result"
    }
   ],
   "source": [
    "track_data = sp.search(q='track:'+'money',type='track', limit=20)\n",
    "track_result = []\n",
    "for i, item in enumerate(track_data['tracks']['items']):\n",
    "    track = item['album']\n",
    "    track_id = item['id']\n",
    "    track_name = item['name']\n",
    "    popularity = item['popularity']\n",
    "    track_result.append((i, track['artists'][0]['name'], track['name'], track_id, track_name, track['release_date'], popularity))\n",
    "\n",
    "track_result\n"
   ]
  }
 ],
 "metadata": {
  "kernelspec": {
   "display_name": "Python 3.8.5 ('base')",
   "language": "python",
   "name": "python3"
  },
  "language_info": {
   "codemirror_mode": {
    "name": "ipython",
    "version": 3
   },
   "file_extension": ".py",
   "mimetype": "text/x-python",
   "name": "python",
   "nbconvert_exporter": "python",
   "pygments_lexer": "ipython3",
   "version": "3.8.5"
  },
  "orig_nbformat": 4,
  "vscode": {
   "interpreter": {
    "hash": "7d4cba6c98a146358a66627d01fceb1e06ac18778e62f6e336de0c8edca858e8"
   }
  }
 },
 "nbformat": 4,
 "nbformat_minor": 2
}
